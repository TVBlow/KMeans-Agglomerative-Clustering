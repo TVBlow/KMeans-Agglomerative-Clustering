{
 "cells": [
  {
   "cell_type": "code",
   "execution_count": 1,
   "metadata": {},
   "outputs": [],
   "source": [
    "import warnings\n",
    "warnings.filterwarnings(\"ignore\", category=DeprecationWarning)"
   ]
  },
  {
   "cell_type": "code",
   "execution_count": 2,
   "metadata": {},
   "outputs": [
    {
     "name": "stderr",
     "output_type": "stream",
     "text": [
      "C:\\Users\\tbl008\\Anaconda3\\lib\\site-packages\\sklearn\\externals\\six.py:31: DeprecationWarning: The module is deprecated in version 0.21 and will be removed in version 0.23 since we've dropped support for Python 2.7. Please rely on the official version of six (https://pypi.org/project/six/).\n",
      "  \"(https://pypi.org/project/six/).\", DeprecationWarning)\n",
      "C:\\Users\\tbl008\\Anaconda3\\lib\\site-packages\\sklearn\\externals\\joblib\\__init__.py:15: DeprecationWarning: sklearn.externals.joblib is deprecated in 0.21 and will be removed in 0.23. Please import this functionality directly from joblib, which can be installed with: pip install joblib. If this warning is raised when loading pickled models, you may need to re-serialize those models with scikit-learn 0.21+.\n",
      "  warnings.warn(msg, category=DeprecationWarning)\n"
     ]
    }
   ],
   "source": [
    "import pandas as pd\n",
    "import seaborn as sns\n",
    "import numpy as np\n",
    "import matplotlib.pyplot as plt\n",
    "%matplotlib inline\n",
    "from sklearn.cluster import KMeans\n",
    "from sklearn.model_selection import train_test_split\n",
    "import mglearn"
   ]
  },
  {
   "cell_type": "code",
   "execution_count": 3,
   "metadata": {},
   "outputs": [],
   "source": [
    "#Import CSV file\n",
    "data = pd.read_csv (r'australian-crabs.csv', header='infer')"
   ]
  },
  {
   "cell_type": "code",
   "execution_count": 4,
   "metadata": {},
   "outputs": [
    {
     "data": {
      "text/plain": [
       "<bound method NDFrame.head of      1  1.1  1.2   8.1   6.7  16.1    19     7\n",
       "0    1    1    2   8.8   7.7  18.1  20.8   7.4\n",
       "1    1    1    3   9.2   7.8  19.0  22.4   7.7\n",
       "2    1    1    4   9.6   7.9  20.1  23.1   8.2\n",
       "3    1    1    5   9.8   8.0  20.3  23.0   8.2\n",
       "4    1    1    6  10.8   9.0  23.0  26.5   9.8\n",
       "..  ..  ...  ...   ...   ...   ...   ...   ...\n",
       "194  0    0   46  21.4  18.0  41.2  46.2  18.7\n",
       "195  0    0   47  21.7  17.1  41.7  47.2  19.6\n",
       "196  0    0   48  21.9  17.2  42.6  47.4  19.5\n",
       "197  0    0   49  22.5  17.2  43.0  48.7  19.8\n",
       "198  0    0   50  23.1  20.2  46.2  52.5  21.1\n",
       "\n",
       "[199 rows x 8 columns]>"
      ]
     },
     "execution_count": 4,
     "metadata": {},
     "output_type": "execute_result"
    }
   ],
   "source": [
    "#View raw data\n",
    "data.head"
   ]
  },
  {
   "cell_type": "code",
   "execution_count": 5,
   "metadata": {},
   "outputs": [],
   "source": [
    "# Give column names\n",
    "column_names = ['Species', 'Sex', 'Index', 'Frontal Lobe', 'Rear Width', 'Carspace Length', 'Carspace Width', 'Body Depth']"
   ]
  },
  {
   "cell_type": "code",
   "execution_count": 6,
   "metadata": {},
   "outputs": [],
   "source": [
    "data.columns = column_names"
   ]
  },
  {
   "cell_type": "code",
   "execution_count": 7,
   "metadata": {},
   "outputs": [
    {
     "data": {
      "text/html": [
       "<div>\n",
       "<style scoped>\n",
       "    .dataframe tbody tr th:only-of-type {\n",
       "        vertical-align: middle;\n",
       "    }\n",
       "\n",
       "    .dataframe tbody tr th {\n",
       "        vertical-align: top;\n",
       "    }\n",
       "\n",
       "    .dataframe thead th {\n",
       "        text-align: right;\n",
       "    }\n",
       "</style>\n",
       "<table border=\"1\" class=\"dataframe\">\n",
       "  <thead>\n",
       "    <tr style=\"text-align: right;\">\n",
       "      <th></th>\n",
       "      <th>Species</th>\n",
       "      <th>Sex</th>\n",
       "      <th>Index</th>\n",
       "      <th>Frontal Lobe</th>\n",
       "      <th>Rear Width</th>\n",
       "      <th>Carspace Length</th>\n",
       "      <th>Carspace Width</th>\n",
       "      <th>Body Depth</th>\n",
       "    </tr>\n",
       "  </thead>\n",
       "  <tbody>\n",
       "    <tr>\n",
       "      <td>0</td>\n",
       "      <td>1</td>\n",
       "      <td>1</td>\n",
       "      <td>2</td>\n",
       "      <td>8.8</td>\n",
       "      <td>7.7</td>\n",
       "      <td>18.1</td>\n",
       "      <td>20.8</td>\n",
       "      <td>7.4</td>\n",
       "    </tr>\n",
       "    <tr>\n",
       "      <td>1</td>\n",
       "      <td>1</td>\n",
       "      <td>1</td>\n",
       "      <td>3</td>\n",
       "      <td>9.2</td>\n",
       "      <td>7.8</td>\n",
       "      <td>19.0</td>\n",
       "      <td>22.4</td>\n",
       "      <td>7.7</td>\n",
       "    </tr>\n",
       "    <tr>\n",
       "      <td>2</td>\n",
       "      <td>1</td>\n",
       "      <td>1</td>\n",
       "      <td>4</td>\n",
       "      <td>9.6</td>\n",
       "      <td>7.9</td>\n",
       "      <td>20.1</td>\n",
       "      <td>23.1</td>\n",
       "      <td>8.2</td>\n",
       "    </tr>\n",
       "    <tr>\n",
       "      <td>3</td>\n",
       "      <td>1</td>\n",
       "      <td>1</td>\n",
       "      <td>5</td>\n",
       "      <td>9.8</td>\n",
       "      <td>8.0</td>\n",
       "      <td>20.3</td>\n",
       "      <td>23.0</td>\n",
       "      <td>8.2</td>\n",
       "    </tr>\n",
       "    <tr>\n",
       "      <td>4</td>\n",
       "      <td>1</td>\n",
       "      <td>1</td>\n",
       "      <td>6</td>\n",
       "      <td>10.8</td>\n",
       "      <td>9.0</td>\n",
       "      <td>23.0</td>\n",
       "      <td>26.5</td>\n",
       "      <td>9.8</td>\n",
       "    </tr>\n",
       "    <tr>\n",
       "      <td>...</td>\n",
       "      <td>...</td>\n",
       "      <td>...</td>\n",
       "      <td>...</td>\n",
       "      <td>...</td>\n",
       "      <td>...</td>\n",
       "      <td>...</td>\n",
       "      <td>...</td>\n",
       "      <td>...</td>\n",
       "    </tr>\n",
       "    <tr>\n",
       "      <td>194</td>\n",
       "      <td>0</td>\n",
       "      <td>0</td>\n",
       "      <td>46</td>\n",
       "      <td>21.4</td>\n",
       "      <td>18.0</td>\n",
       "      <td>41.2</td>\n",
       "      <td>46.2</td>\n",
       "      <td>18.7</td>\n",
       "    </tr>\n",
       "    <tr>\n",
       "      <td>195</td>\n",
       "      <td>0</td>\n",
       "      <td>0</td>\n",
       "      <td>47</td>\n",
       "      <td>21.7</td>\n",
       "      <td>17.1</td>\n",
       "      <td>41.7</td>\n",
       "      <td>47.2</td>\n",
       "      <td>19.6</td>\n",
       "    </tr>\n",
       "    <tr>\n",
       "      <td>196</td>\n",
       "      <td>0</td>\n",
       "      <td>0</td>\n",
       "      <td>48</td>\n",
       "      <td>21.9</td>\n",
       "      <td>17.2</td>\n",
       "      <td>42.6</td>\n",
       "      <td>47.4</td>\n",
       "      <td>19.5</td>\n",
       "    </tr>\n",
       "    <tr>\n",
       "      <td>197</td>\n",
       "      <td>0</td>\n",
       "      <td>0</td>\n",
       "      <td>49</td>\n",
       "      <td>22.5</td>\n",
       "      <td>17.2</td>\n",
       "      <td>43.0</td>\n",
       "      <td>48.7</td>\n",
       "      <td>19.8</td>\n",
       "    </tr>\n",
       "    <tr>\n",
       "      <td>198</td>\n",
       "      <td>0</td>\n",
       "      <td>0</td>\n",
       "      <td>50</td>\n",
       "      <td>23.1</td>\n",
       "      <td>20.2</td>\n",
       "      <td>46.2</td>\n",
       "      <td>52.5</td>\n",
       "      <td>21.1</td>\n",
       "    </tr>\n",
       "  </tbody>\n",
       "</table>\n",
       "<p>199 rows × 8 columns</p>\n",
       "</div>"
      ],
      "text/plain": [
       "     Species  Sex  Index  Frontal Lobe  Rear Width  Carspace Length  \\\n",
       "0          1    1      2           8.8         7.7             18.1   \n",
       "1          1    1      3           9.2         7.8             19.0   \n",
       "2          1    1      4           9.6         7.9             20.1   \n",
       "3          1    1      5           9.8         8.0             20.3   \n",
       "4          1    1      6          10.8         9.0             23.0   \n",
       "..       ...  ...    ...           ...         ...              ...   \n",
       "194        0    0     46          21.4        18.0             41.2   \n",
       "195        0    0     47          21.7        17.1             41.7   \n",
       "196        0    0     48          21.9        17.2             42.6   \n",
       "197        0    0     49          22.5        17.2             43.0   \n",
       "198        0    0     50          23.1        20.2             46.2   \n",
       "\n",
       "     Carspace Width  Body Depth  \n",
       "0              20.8         7.4  \n",
       "1              22.4         7.7  \n",
       "2              23.1         8.2  \n",
       "3              23.0         8.2  \n",
       "4              26.5         9.8  \n",
       "..              ...         ...  \n",
       "194            46.2        18.7  \n",
       "195            47.2        19.6  \n",
       "196            47.4        19.5  \n",
       "197            48.7        19.8  \n",
       "198            52.5        21.1  \n",
       "\n",
       "[199 rows x 8 columns]"
      ]
     },
     "metadata": {},
     "output_type": "display_data"
    }
   ],
   "source": [
    "# Display data where in Species: Blue = 1, Orange = 0 & in Sex column: Male = 1 Female = 0\n",
    "\n",
    "display(data)"
   ]
  },
  {
   "cell_type": "code",
   "execution_count": 8,
   "metadata": {},
   "outputs": [],
   "source": [
    "#Extracting the 5 morphological measurements for use in the training set\n",
    "d5 = data[['Frontal Lobe', 'Rear Width', 'Carspace Length', 'Carspace Width', 'Body Depth']]"
   ]
  },
  {
   "cell_type": "code",
   "execution_count": 9,
   "metadata": {},
   "outputs": [],
   "source": [
    "#Assign values to X & y for train test split\n",
    "X = d5.iloc[:, [1, 3, 4]].values\n",
    "y = d5.iloc[:, [0, 2]].values"
   ]
  },
  {
   "cell_type": "code",
   "execution_count": 10,
   "metadata": {},
   "outputs": [],
   "source": [
    "# Split data into training and test sets (75% training, 25% test)\n",
    "\n",
    "X_train, X_test, y_train, y_test = (\n",
    "train_test_split( \n",
    "    X, y, test_size = 0.25, random_state=0))"
   ]
  },
  {
   "cell_type": "code",
   "execution_count": 11,
   "metadata": {},
   "outputs": [
    {
     "name": "stdout",
     "output_type": "stream",
     "text": [
      " X_train shape: (149, 3)\n",
      " y_train shape: (149, 2)\n"
     ]
    }
   ],
   "source": [
    "#Review shape of training data\n",
    "print(\" X_train shape:\", X_train.shape) \n",
    "print(\" y_train shape:\", y_train.shape)"
   ]
  },
  {
   "cell_type": "code",
   "execution_count": 12,
   "metadata": {},
   "outputs": [],
   "source": [
    "#Perform KMeans clustering assuming 2 clusters\n",
    "kmeans = KMeans(n_clusters=2).fit(X_train)"
   ]
  },
  {
   "cell_type": "code",
   "execution_count": 13,
   "metadata": {},
   "outputs": [
    {
     "data": {
      "text/plain": [
       "array([1, 0, 0, 0, 1, 0, 0, 1, 0, 1, 0, 0, 0, 1, 1, 0, 1, 1, 1, 1, 0, 0,\n",
       "       0, 1, 0, 0, 1, 1, 0, 1, 1, 0, 0, 1, 1, 1, 1, 0, 0, 0, 1, 0, 1, 0,\n",
       "       0, 0, 0, 0, 1, 1, 0, 1, 1, 0, 1, 0, 1, 0, 0, 1, 1, 0, 0, 1, 1, 0,\n",
       "       0, 0, 1, 1, 1, 1, 1, 1, 1, 1, 1, 1, 0, 1, 1, 0, 1, 1, 0, 1, 0, 0,\n",
       "       1, 1, 1, 0, 1, 1, 1, 1, 1, 0, 1, 0, 0, 1, 0, 0, 1, 1, 0, 0, 0, 1,\n",
       "       1, 0, 0, 0, 0, 0, 0, 0, 0, 0, 1, 0, 1, 1, 0, 0, 1, 1, 0, 0, 0, 0,\n",
       "       0, 0, 0, 1, 0, 0, 1, 0, 0, 1, 1, 1, 1, 0, 1, 0, 0])"
      ]
     },
     "execution_count": 13,
     "metadata": {},
     "output_type": "execute_result"
    }
   ],
   "source": [
    "#Determine Cluster label for KMeans cluster\n",
    "kmeans.labels_"
   ]
  },
  {
   "cell_type": "code",
   "execution_count": 14,
   "metadata": {},
   "outputs": [],
   "source": [
    "# Predict the clusters\n",
    "labels = kmeans.predict(X_train)"
   ]
  },
  {
   "cell_type": "code",
   "execution_count": 15,
   "metadata": {},
   "outputs": [
    {
     "name": "stdout",
     "output_type": "stream",
     "text": [
      "[1 0 0 0 1 0 0 1 0 1 0 0 0 1 1 0 1 1 1 1 0 0 0 1 0 0 1 1 0 1 1 0 0 1 1 1 1\n",
      " 0 0 0 1 0 1 0 0 0 0 0 1 1 0 1 1 0 1 0 1 0 0 1 1 0 0 1 1 0 0 0 1 1 1 1 1 1\n",
      " 1 1 1 1 0 1 1 0 1 1 0 1 0 0 1 1 1 0 1 1 1 1 1 0 1 0 0 1 0 0 1 1 0 0 0 1 1\n",
      " 0 0 0 0 0 0 0 0 0 1 0 1 1 0 0 1 1 0 0 0 0 0 0 0 1 0 0 1 0 0 1 1 1 1 0 1 0\n",
      " 0]\n"
     ]
    }
   ],
   "source": [
    "print(labels)"
   ]
  },
  {
   "cell_type": "code",
   "execution_count": 16,
   "metadata": {},
   "outputs": [
    {
     "data": {
      "text/plain": [
       "array([[14.6       , 42.48311688, 16.51298701],\n",
       "       [10.60833333, 29.4125    , 11.15416667]])"
      ]
     },
     "execution_count": 16,
     "metadata": {},
     "output_type": "execute_result"
    }
   ],
   "source": [
    "kmeans.cluster_centers_"
   ]
  },
  {
   "cell_type": "code",
   "execution_count": 17,
   "metadata": {
    "scrolled": true
   },
   "outputs": [
    {
     "data": {
      "text/plain": [
       "<function matplotlib.pyplot.show(*args, **kw)>"
      ]
     },
     "execution_count": 17,
     "metadata": {},
     "output_type": "execute_result"
    },
    {
     "data": {
      "image/png": "[encoded data removed]",
      "text/plain": [
       "<Figure size 432x288 with 1 Axes>"
      ]
     },
     "metadata": {
      "needs_background": "light"
     },
     "output_type": "display_data"
    }
   ],
   "source": [
    "#Plot KMeans Clustering of 2 features \n",
    "\n",
    "plt.scatter(X_train[:,0], y_train[:,0], c= kmeans.labels_.astype(float), s=50, alpha=1.0)\n",
    "plt.ylabel('Frontal Lobe')\n",
    "plt.xlabel('Rear Width')\n",
    "plt.show"
   ]
  },
  {
   "cell_type": "code",
   "execution_count": 18,
   "metadata": {},
   "outputs": [
    {
     "data": {
      "text/plain": [
       "array([1, 0, 0, 0, 1, 0, 0, 1, 0, 1, 0, 0, 0, 0, 1, 0, 1, 0, 1, 1, 0, 0,\n",
       "       0, 1, 0, 0, 1, 1, 0, 1, 1, 0, 0, 1, 1, 1, 1, 0, 0, 0, 1, 0, 1, 0,\n",
       "       0, 0, 0, 0, 1, 1, 0, 1, 1, 0, 1, 0, 1, 0, 0, 1, 1, 0, 0, 1, 1, 0,\n",
       "       0, 0, 0, 1, 0, 1, 1, 1, 1, 1, 1, 0, 0, 1, 1, 0, 1, 1, 0, 1, 0, 0,\n",
       "       1, 1, 1, 0, 1, 1, 1, 1, 0, 0, 1, 0, 0, 1, 0, 0, 1, 1, 0, 0, 0, 1,\n",
       "       1, 0, 0, 0, 0, 0, 0, 0, 0, 0, 1, 0, 0, 1, 0, 0, 1, 0, 0, 0, 0, 0,\n",
       "       0, 0, 0, 1, 0, 0, 1, 0, 0, 0, 1, 1, 1, 0, 1, 0, 0], dtype=int64)"
      ]
     },
     "execution_count": 18,
     "metadata": {},
     "output_type": "execute_result"
    }
   ],
   "source": [
    "#Perform agglomerative clustering assuming 2 clusters\n",
    "from sklearn.cluster import AgglomerativeClustering\n",
    "\n",
    "cluster = AgglomerativeClustering(n_clusters=2, affinity='euclidean', linkage='ward')\n",
    "cluster.fit_predict(X_train)"
   ]
  },
  {
   "cell_type": "code",
   "execution_count": 19,
   "metadata": {},
   "outputs": [],
   "source": [
    "#Assign names to cluster array\n",
    "labels2= cluster.fit_predict(X_train)"
   ]
  },
  {
   "cell_type": "code",
   "execution_count": 20,
   "metadata": {},
   "outputs": [
    {
     "data": {
      "text/plain": [
       "Text(0, 0.5, 'Rear Width')"
      ]
     },
     "execution_count": 20,
     "metadata": {},
     "output_type": "execute_result"
    },
    {
     "data": {
      "image/png": "[encoded data removed]",
      "text/plain": [
       "<Figure size 432x288 with 1 Axes>"
      ]
     },
     "metadata": {
      "needs_background": "light"
     },
     "output_type": "display_data"
    }
   ],
   "source": [
    "#Graph Agglomerative Clustering using make blobs\n",
    "from sklearn.datasets.samples_generator import make_blobs\n",
    "\n",
    "X, y = make_blobs(random_state = 0) \n",
    "\n",
    "agg = AgglomerativeClustering(n_clusters = 2) \n",
    "assignment = agg.fit_predict(X_train) \n",
    "mglearn.discrete_scatter(X_train[:, 0], X_train[:, 1], assignment) \n",
    "\n",
    "plt.legend([\"Cluster 1\", \"Cluster 2\"], loc =\"best\") \n",
    "plt.xlabel(\"Carspace Length\") \n",
    "plt.ylabel(\"Rear Width\")"
   ]
  },
  {
   "cell_type": "code",
   "execution_count": 21,
   "metadata": {},
   "outputs": [
    {
     "data": {
      "text/plain": [
       "0.02686028585669832"
      ]
     },
     "execution_count": 21,
     "metadata": {},
     "output_type": "execute_result"
    }
   ],
   "source": [
    "#Compute the Adjusted Rand Index (ARI) score using Species as ground truth for Kmeans\n",
    "\n",
    "from sklearn.metrics.cluster import adjusted_rand_score\n",
    "from sklearn import metrics\n",
    "\n",
    "metrics.adjusted_rand_score (data['Species'].iloc[:149], kmeans.labels_)"
   ]
  },
  {
   "cell_type": "code",
   "execution_count": 22,
   "metadata": {},
   "outputs": [
    {
     "data": {
      "text/plain": [
       "0.011501899624267667"
      ]
     },
     "execution_count": 22,
     "metadata": {},
     "output_type": "execute_result"
    }
   ],
   "source": [
    "#Compute the Adjusted Rand Index (ARI) score using Species as ground truth \n",
    "#for Agglomerative Clustering\n",
    "\n",
    "metrics.adjusted_rand_score (data['Species'].iloc[:149], labels2)"
   ]
  },
  {
   "cell_type": "code",
   "execution_count": 23,
   "metadata": {},
   "outputs": [],
   "source": [
    "# The Agglomerative clustering algorithm has a better outcome.\n",
    "# It is closer to 0 meaning is presents a greater degree of randomness"
   ]
  },
  {
   "cell_type": "code",
   "execution_count": 24,
   "metadata": {},
   "outputs": [],
   "source": [
    "from sklearn.preprocessing import StandardScaler\n",
    "\n",
    "scaler = StandardScaler()\n",
    "scaler.fit(d5)\n",
    "X_scaled = scaler.transform(d5)"
   ]
  },
  {
   "cell_type": "code",
   "execution_count": 25,
   "metadata": {},
   "outputs": [
    {
     "name": "stdout",
     "output_type": "stream",
     "text": [
      "Original shape: (149, 3)\n",
      "Reduced shape: (149, 2)\n"
     ]
    }
   ],
   "source": [
    "from sklearn.decomposition import PCA\n",
    "\n",
    "# Applying PCA and keeping two principal components of the data\n",
    "pca = PCA(n_components=2, random_state=0)\n",
    "\n",
    "# fit PCA model to training data\n",
    "pca.fit(X_train)\n",
    "\n",
    "# transform data onto the first two principal components\n",
    "X_pca = pca.transform(X_train)\n",
    "\n",
    "print(\"Original shape: {}\".format(str(X_train.shape)))\n",
    "print(\"Reduced shape: {}\".format(str(X_pca.shape)))"
   ]
  },
  {
   "cell_type": "code",
   "execution_count": 62,
   "metadata": {
    "scrolled": true
   },
   "outputs": [
    {
     "data": {
      "image/png": "[encoded data removed]",
      "text/plain": [
       "<Figure size 576x576 with 1 Axes>"
      ]
     },
     "metadata": {
      "needs_background": "light"
     },
     "output_type": "display_data"
    }
   ],
   "source": [
    "plt.figure(figsize=(8, 8))\n",
    "colors =['Orange', 'Blue']\n",
    "for i in range(len(colors)):\n",
    " x = X_pca[:, 0] \n",
    " y = X_pca[:, 1]\n",
    "\n",
    " x2 = X_pca[:, 0]\n",
    " y2 = X_pca[:, 1]\n",
    "mglearn.discrete_scatter(X_pca[:, 0], X_pca[:, 1], data['Species'].iloc[:149])\n",
    "plt.scatter(x,y,label='First Principal Component',cmap=plt.get_cmap('jet'), marker='o',s=50)\n",
    "plt.scatter(x2,y2,label='Second Principal Component',cmap=plt.get_cmap('jet'), marker='^',s=50)\n",
    "plt.xlabel('First Principal Component')\n",
    "plt.ylabel('Second Principal Component')\n",
    "plt.title(\"PCA Scatter Plot\")\n",
    "plt.show()"
   ]
  }
 ],
 "metadata": {
  "kernelspec": {
   "display_name": "Python 3",
   "language": "python",
   "name": "python3"
  },
  "language_info": {
   "codemirror_mode": {
    "name": "ipython",
    "version": 3
   },
   "file_extension": ".py",
   "mimetype": "text/x-python",
   "name": "python",
   "nbconvert_exporter": "python",
   "pygments_lexer": "ipython3",
   "version": "3.7.3"
  }
 },
 "nbformat": 4,
 "nbformat_minor": 2
}
